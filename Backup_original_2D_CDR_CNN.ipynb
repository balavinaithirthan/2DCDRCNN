{
  "nbformat": 4,
  "nbformat_minor": 0,
  "metadata": {
    "colab": {
      "name": "Backup original 2D_CDR_CNN.ipynb",
      "provenance": [],
      "include_colab_link": true
    },
    "kernelspec": {
      "display_name": "Python 3",
      "name": "python3"
    }
  },
  "cells": [
    {
      "cell_type": "markdown",
      "metadata": {
        "id": "view-in-github",
        "colab_type": "text"
      },
      "source": [
        "<a href=\"https://colab.research.google.com/github/balavinaithirthan/2DCDRCNN/blob/main/Backup_original_2D_CDR_CNN.ipynb\" target=\"_parent\"><img src=\"https://colab.research.google.com/assets/colab-badge.svg\" alt=\"Open In Colab\"/></a>"
      ]
    },
    {
      "cell_type": "markdown",
      "metadata": {
        "id": "RyElgmbIX8Ua"
      },
      "source": [
        "Copy data files from google drive to a local folder"
      ]
    },
    {
      "cell_type": "code",
      "metadata": {
        "colab": {
          "base_uri": "https://localhost:8080/"
        },
        "id": "Bgn8LLBKq-vP",
        "outputId": "6941ff57-e23f-48c6-d88d-a13762eb5700"
      },
      "source": [
        "from google.colab import drive\n",
        "drive.mount('/content/drive')"
      ],
      "execution_count": null,
      "outputs": [
        {
          "output_type": "stream",
          "text": [
            "Drive already mounted at /content/drive; to attempt to forcibly remount, call drive.mount(\"/content/drive\", force_remount=True).\n"
          ],
          "name": "stdout"
        }
      ]
    },
    {
      "cell_type": "code",
      "metadata": {
        "id": "hlkOZX2rrrWX"
      },
      "source": [
        "base_folder = \"./sample_data/\"\n",
        "base_project_folder = base_folder + \"project/\""
      ],
      "execution_count": null,
      "outputs": []
    },
    {
      "cell_type": "code",
      "metadata": {
        "id": "RqG-OZsn06XL"
      },
      "source": [
        "# copy the zip file to the sample_data folder\n",
        "!cp \"drive/My Drive/2DCDRCNN/projectdata.zip\" ./sample_data/\n",
        "!cp \"drive/My Drive/2DCDRCNN/R2.py\" ."
      ],
      "execution_count": null,
      "outputs": []
    },
    {
      "cell_type": "markdown",
      "metadata": {
        "id": "P8bQeIb5YeDx"
      },
      "source": [
        "Unzip the data files into a folder"
      ]
    },
    {
      "cell_type": "code",
      "metadata": {
        "id": "6opcG3ddsCD0"
      },
      "source": [
        "\n",
        "from zipfile import ZipFile \n",
        "  \n",
        "# specifying the zip file name \n",
        "file_name = base_folder + \"projectdata.zip\"\n",
        "  \n",
        "# opening the zip file in READ mode \n",
        "with ZipFile(file_name, 'r') as zip: \n",
        "    # printing all the contents of the zip file \n",
        "    zip.printdir() \n",
        "  \n",
        "    # extracting all the files \n",
        "    print('Extracting all the files now...') \n",
        "    zip.extractall() \n",
        "    print('Done!') "
      ],
      "execution_count": null,
      "outputs": []
    },
    {
      "cell_type": "markdown",
      "metadata": {
        "id": "F-W73wdLc_MT"
      },
      "source": [
        "Load and prepare data"
      ]
    },
    {
      "cell_type": "code",
      "metadata": {
        "id": "SItbXI8N3lJk"
      },
      "source": [
        "import pandas as pd\n",
        "# load the drug and gene expression data set \n",
        "drug_gene_expression_dataset = pd.read_csv(\"sample_data/project/data.csv\")\n"
      ],
      "execution_count": null,
      "outputs": []
    },
    {
      "cell_type": "code",
      "metadata": {
        "id": "i-Ji7B14PCnB"
      },
      "source": [
        "import numpy as np\n",
        "\n",
        "# load onehot enencoding of all drugs\n",
        "onehot_encoded_drug_list = {}\n",
        "# load the normailized gene expression of all drugs\n",
        "normailized_gene_expression_list = {}\n",
        "for item in drug_gene_expression_dataset.iterrows() :\n",
        "  drug_name = item[1]['drug names']\n",
        "  cell_name = item[1]['cell names']\n",
        "  if (drug_name not in onehot_encoded_drug_list) :\n",
        "    onehot_encoded_drug = pd.read_csv(drug_name, header=None, dtype=np.float64).to_numpy()\n",
        "    onehot_encoded_drug_list[drug_name] =  np.reshape(onehot_encoded_drug, [188,28])\n",
        "  if (cell_name not in normailized_gene_expression_list) :\n",
        "    normailized_gene_expression = pd.read_csv(cell_name, header=None, dtype=np.float64).to_numpy()\n",
        "    normailized_gene_expression_list[cell_name] = normailized_gene_expression.flatten()\n",
        "print(len(normailized_gene_expression_list))\n",
        "print(len(onehot_encoded_drug_list))"
      ],
      "execution_count": null,
      "outputs": []
    },
    {
      "cell_type": "code",
      "metadata": {
        "id": "DOtF7ntTXo7c"
      },
      "source": [
        "#create a feature list consisting of onehot drug representation, normailized gene expression and ic50 target value\n",
        "onehot_encoded_drug_feature_list = []\n",
        "normailized_gene_expression_feature_list = []\n",
        "ic50_target_list = []\n",
        "for item in drug_gene_expression_dataset.iterrows() :\n",
        "  drug_name = item[1]['drug names']\n",
        "  cell_name = item[1]['cell names']\n",
        "  ic50s = item[1]['ic50']\n",
        "  normailized_gene_expression_feature_list.append(normailized_gene_expression_list[cell_name])\n",
        "  onehot_encoded_drug_feature_list.append(onehot_encoded_drug_list[drug_name])\n",
        "  ic50_target_list.append(ic50s)\n",
        "onehot_encoded_drug_feature = np.stack( onehot_encoded_drug_feature_list, axis=0 )\n",
        "normailized_gene_expression_feature = np.stack( normailized_gene_expression_feature_list, axis=0 )\n",
        "ic50s = np.asarray(ic50_target_list)\n",
        "print(onehot_encoded_drug_feature.shape)\n",
        "print(normailized_gene_expression_feature.shape)\n",
        "print(ic50s.shape)"
      ],
      "execution_count": null,
      "outputs": []
    },
    {
      "cell_type": "markdown",
      "metadata": {
        "id": "ipAPEWtwGKk_"
      },
      "source": [
        "Create the model\n"
      ]
    },
    {
      "cell_type": "code",
      "metadata": {
        "id": "MCiKGUo8F_nY"
      },
      "source": [
        "from keras.models import Sequential, Model, Input\n",
        "from keras.layers import Dense, Conv1D, Flatten, MaxPooling1D, Concatenate, Dropout\n",
        "import tensorflow as tf\n",
        "import numpy as np\n",
        "import R2\n",
        "\n",
        "onehot_encoded_drug_input = Input(shape=(188,28), dtype=tf.float32, name=\"onehot_encoded_drug_input\")\n",
        "d = Conv1D(filters=40, kernel_size=7, padding=\"same\", activation=\"relu\", use_bias=True, name=\"drug_cnn_layer_1\")(onehot_encoded_drug_input)\n",
        "d = MaxPooling1D(pool_size=3, strides=3, padding=\"same\", name=\"drug_cnn_layer_2\")(d)\n",
        "d = Conv1D(  filters=80, kernel_size=7, padding=\"same\", activation=\"relu\", use_bias=True, name=\"drug_cnn_layer_3\")(d)\n",
        "d = MaxPooling1D(pool_size=3, strides=3, padding=\"same\", name=\"drug_cnn_layer_4\")(d)\n",
        "d = Conv1D(  filters=60, kernel_size=7, padding=\"same\", activation=\"relu\", use_bias=True, name=\"drug_cnn_layer_5\")(d)\n",
        "d = MaxPooling1D(pool_size=3, strides=3, padding=\"same\", name=\"drug_cnn_layer_6\")(d)\n",
        "\n",
        "normailized_gene_expression_input = Input(shape=(2500,1), name=\"normailized_gene_expression_input\")\n",
        "g = Conv1D(filters=40, kernel_size=7, padding=\"same\", activation=\"relu\", use_bias=True, name=\"gene_expression_cnn_layer_1\")(normailized_gene_expression_input)\n",
        "g = MaxPooling1D(pool_size=3, strides=3, padding=\"same\", name=\"gene_expression_cnn_layer_2\")(g)\n",
        "g = Conv1D(  filters=80, kernel_size=7, padding=\"same\", activation=\"relu\", use_bias=True, name=\"gene_expression_cnn_layer_3\")(g)\n",
        "g = MaxPooling1D(pool_size=3, strides=3, padding=\"same\", name=\"gene_expression_cnn_layer_4\")(g)\n",
        "g = Conv1D(  filters=60, kernel_size=7, padding=\"same\", activation=\"relu\", use_bias=True, name=\"gene_expression_cnn_layer_5\")(g)\n",
        "g = MaxPooling1D(pool_size=3, strides=3, padding=\"same\", name=\"gene_expression_cnn_layer_6\")(g)\n",
        "\n",
        "fcn = Concatenate(1, name=\"combine_drug_and_gene_expression_cnns\")([d, g])\n",
        "fcn = Flatten(name=\"fcn_layer_1\")(fcn)\n",
        "fcn = Dense(1024, activation='relu',use_bias=True, name=\"fcn_layer_2\")(fcn)\n",
        "fcn = Dropout(0.2, name=\"fcn_layer_3\")(fcn)\n",
        "fcn = Dense(1024, activation='relu',use_bias=True, name=\"fcn_layer_4\")(fcn)\n",
        "fcn = Dropout(0.2, name=\"fcn_layer_5\")(fcn)\n",
        "fcn_output = Dense(1,  activation='sigmoid',use_bias=True, name=\"fcn_output_layer_6\")(fcn)\n",
        "\n",
        "model = Model( name=\"2d_cdr_cnn\",  \n",
        "    inputs=([onehot_encoded_drug_input,normailized_gene_expression_input]),\n",
        "    outputs=fcn_output\n",
        ")\n",
        "\n",
        "\n",
        "model.compile( optimizer='adam',\n",
        "               loss=\"mean_squared_error\",\n",
        "               metrics=[tf.keras.metrics.RootMeanSquaredError(), R2.RSquare(), 'mae'])\n",
        "\n",
        "model.summary()\n",
        "\n"
      ],
      "execution_count": null,
      "outputs": []
    },
    {
      "cell_type": "code",
      "metadata": {
        "colab": {
          "background_save": true
        },
        "id": "Uc-8SQMTEX1g"
      },
      "source": [
        "model.fit(\n",
        "    {\"onehot_encoded_drug_input\": onehot_encoded_drug_feature, \"normailized_gene_expression_input\": normailized_gene_expression_feature},\n",
        "    {\"fcn_output_layer_6\": ic50s},\n",
        "    epochs=15,\n",
        "    validation_split=0.1,\n",
        "    shuffle=True,\n",
        "    batch_size=100,\n",
        "    verbose=1\n",
        ")"
      ],
      "execution_count": null,
      "outputs": []
    }
  ]
}